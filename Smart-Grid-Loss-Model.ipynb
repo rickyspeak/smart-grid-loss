{
 "metadata": {
  "name": ""
 },
 "nbformat": 3,
 "nbformat_minor": 0,
 "worksheets": [
  {
   "cells": [
    {
     "cell_type": "code",
     "collapsed": false,
     "input": [
      "import numpy as np\n",
      "import scipy.optimize as op"
     ],
     "language": "python",
     "metadata": {},
     "outputs": [],
     "prompt_number": 329
    },
    {
     "cell_type": "code",
     "collapsed": false,
     "input": [
      "def gradient_check(x, f, f_prime, *args) :\n",
      "    if(type(x) == int or type(x) == float) :\n",
      "        grad = 0\n",
      "        grad = f(x+0.0001,*args)\n",
      "        grad -= f(x-0.0001,*args)\n",
      "        grad /= 0.0002\n",
      "        grad -= f_prime(x, *args)\n",
      "    else :\n",
      "        grad = zeros(len(x))\n",
      "        xplus = zeros(len(x))\n",
      "        for i in range(len(x)) :\n",
      "            xplus[i] += 0.0001\n",
      "            grad[i] = f(x+xplus,*args)\n",
      "            grad[i] -= f(x-xplus,*args)\n",
      "            xplus[i] = 0\n",
      "        grad /= 0.0002\n",
      "        grad -= f_prime(x, *args)\n",
      "#    return [grad,f_prime(x, *args)]\n",
      "    return grad\n"
     ],
     "language": "python",
     "metadata": {},
     "outputs": [],
     "prompt_number": 524
    },
    {
     "cell_type": "code",
     "collapsed": false,
     "input": [
      "random.seed(10)\n",
      "b = randn(10)\n",
      "X = randn(100,10)\n",
      "X[:,0] = 1\n",
      "Y = dot(X,b) + randn(100)/10\n"
     ],
     "language": "python",
     "metadata": {},
     "outputs": [],
     "prompt_number": 591
    },
    {
     "cell_type": "code",
     "collapsed": false,
     "input": [
      "def loss_func(b, X, Y, l=0, c=0) :\n",
      "    resid = dot(X,b)-Y\n",
      "#    loss = dot(resid,resid) + dot(b,b)*l + sum(exp(c*resid))\n",
      "    loss = dot(resid,resid) + dot(b,b)*l + c*dot(resid,[max(0,x) for x in resid])\n",
      "    return loss\n",
      "def loss_func_prime(b, X, Y, l=0, c=0) :\n",
      "    resid = dot(X,b)-Y\n",
      "#    loss_prime = 2*dot(resid,X) + 2*b*l + c*dot(exp(c*resid),X)\n",
      "    loss_prime = 2*dot(resid,X) + 2*b*l + 2*c*dot([max(0,x) for x in resid],X)\n",
      "    return loss_prime"
     ],
     "language": "python",
     "metadata": {},
     "outputs": [],
     "prompt_number": 592
    },
    {
     "cell_type": "code",
     "collapsed": false,
     "input": [
      "b"
     ],
     "language": "python",
     "metadata": {},
     "outputs": [
      {
       "metadata": {},
       "output_type": "pyout",
       "prompt_number": 593,
       "text": [
        "array([ 1.3315865 ,  0.71527897, -1.54540029, -0.00838385,  0.62133597,\n",
        "       -0.72008556,  0.26551159,  0.10854853,  0.00429143, -0.17460021])"
       ]
      }
     ],
     "prompt_number": 593
    },
    {
     "cell_type": "code",
     "collapsed": false,
     "input": [
      "gradient_check(b, loss_func, loss_func_prime, X, Y, 0, 0)"
     ],
     "language": "python",
     "metadata": {},
     "outputs": [
      {
       "metadata": {},
       "output_type": "pyout",
       "prompt_number": 594,
       "text": [
        "array([ -1.43596246e-12,   4.31810143e-12,   1.79856130e-13,\n",
        "         2.46958010e-12,   3.27338157e-12,   9.35473921e-13,\n",
        "        -6.13731288e-13,   7.22089055e-13,   1.50990331e-14,\n",
        "         4.68514116e-13])"
       ]
      }
     ],
     "prompt_number": 594
    },
    {
     "cell_type": "code",
     "collapsed": false,
     "input": [
      "pred_b = op.fmin_bfgs(loss_func, randn(10), loss_func_prime, (X,Y,0,2)) "
     ],
     "language": "python",
     "metadata": {},
     "outputs": [
      {
       "output_type": "stream",
       "stream": "stdout",
       "text": [
        "Optimization terminated successfully.\n",
        "         Current function value: 1.491984\n",
        "         Iterations: 24\n",
        "         Function evaluations: 35\n",
        "         Gradient evaluations: 35\n"
       ]
      }
     ],
     "prompt_number": 606
    },
    {
     "cell_type": "code",
     "collapsed": false,
     "input": [
      "pred_b"
     ],
     "language": "python",
     "metadata": {},
     "outputs": [
      {
       "metadata": {},
       "output_type": "pyout",
       "prompt_number": 607,
       "text": [
        "array([ 1.2930495 ,  0.71797559, -1.55412638,  0.01110755,  0.63923501,\n",
        "       -0.73549928,  0.25935013,  0.08639255, -0.02297658, -0.17596642])"
       ]
      }
     ],
     "prompt_number": 607
    },
    {
     "cell_type": "code",
     "collapsed": false,
     "input": [
      "sum([x**2 for x in dot(X,pred_b)-Y])"
     ],
     "language": "python",
     "metadata": {},
     "outputs": [
      {
       "metadata": {},
       "output_type": "pyout",
       "prompt_number": 608,
       "text": [
        "1.0793350661230883"
       ]
      }
     ],
     "prompt_number": 608
    },
    {
     "cell_type": "code",
     "collapsed": false,
     "input": [
      "from sklearn import linear_model\n",
      "clf = linear_model.LinearRegression(fit_intercept=False)\n",
      "clf.fit(X,Y)\n",
      "clf.coef_"
     ],
     "language": "python",
     "metadata": {},
     "outputs": [
      {
       "metadata": {},
       "output_type": "pyout",
       "prompt_number": 609,
       "text": [
        "array([ 1.33371942,  0.72279086, -1.55286143,  0.00654136,  0.64049962,\n",
        "       -0.73234029,  0.25611032,  0.08230191, -0.01823239, -0.176214  ])"
       ]
      }
     ],
     "prompt_number": 609
    },
    {
     "cell_type": "code",
     "collapsed": false,
     "input": [
      "sum([x**2 for x in clf.predict(X)-Y])"
     ],
     "language": "python",
     "metadata": {},
     "outputs": [
      {
       "metadata": {},
       "output_type": "pyout",
       "prompt_number": 600,
       "text": [
        "0.90545867625154297"
       ]
      }
     ],
     "prompt_number": 600
    },
    {
     "cell_type": "code",
     "collapsed": false,
     "input": [
      "curve_x = linspace(-1,1,100)\n",
      "curve_y = exp(-curve_x)+ exp(2*curve_x)"
     ],
     "language": "python",
     "metadata": {},
     "outputs": [],
     "prompt_number": 587
    },
    {
     "cell_type": "code",
     "collapsed": false,
     "input": [
      "plot(curve_x, curve_y, 'r-')"
     ],
     "language": "python",
     "metadata": {},
     "outputs": [
      {
       "metadata": {},
       "output_type": "pyout",
       "prompt_number": 576,
       "text": [
        "<matplotlib.text.Text at 0x10a7eb0d0>"
       ]
      },
      {
       "metadata": {},
       "output_type": "display_data",
       "png": "[encoded data removed]",
       "text": [
        "<matplotlib.figure.Figure at 0x10a5d8e50>"
       ]
      }
     ],
     "prompt_number": 576
    },
    {
     "cell_type": "code",
     "collapsed": false,
     "input": [
      "max([1,2,3],2)"
     ],
     "language": "python",
     "metadata": {},
     "outputs": [
      {
       "metadata": {},
       "output_type": "pyout",
       "prompt_number": 577,
       "text": [
        "[1, 2, 3]"
       ]
      }
     ],
     "prompt_number": 577
    },
    {
     "cell_type": "code",
     "collapsed": false,
     "input": [
      "help(max)"
     ],
     "language": "python",
     "metadata": {},
     "outputs": [
      {
       "output_type": "stream",
       "stream": "stdout",
       "text": [
        "Help on built-in function max in module __builtin__:\n",
        "\n",
        "max(...)\n",
        "    max(iterable[, key=func]) -> value\n",
        "    max(a, b, c, ...[, key=func]) -> value\n",
        "    \n",
        "    With a single iterable argument, return its largest item.\n",
        "    With two or more arguments, return the largest argument.\n",
        "\n"
       ]
      }
     ],
     "prompt_number": 578
    },
    {
     "cell_type": "code",
     "collapsed": false,
     "input": [],
     "language": "python",
     "metadata": {},
     "outputs": []
    }
   ],
   "metadata": {}
  }
 ]
}