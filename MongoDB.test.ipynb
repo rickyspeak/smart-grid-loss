{
 "metadata": {
  "name": ""
 },
 "nbformat": 3,
 "nbformat_minor": 0,
 "worksheets": [
  {
   "cells": [
    {
     "cell_type": "code",
     "collapsed": false,
     "input": [
      "import sys\n",
      "from pymongo import Connection\n",
      "from pymongo.errors import ConnectionFailure\n",
      "from datetime import datetime\n",
      "\n",
      "def main():\n",
      "    \"\"\" Connect to MongoDB \"\"\" \n",
      "    try:\n",
      "        c = Connection(host=\"localhost\", port=27017)\n",
      "        print \"Connected successfully\" \n",
      "    except ConnectionFailure, e:\n",
      "        sys.stderr.write(\"Could not connect to MongoDB: %s\" % e)\n",
      "        sys.exit(1)\n",
      "        \n",
      "    # Get a Database handle to a database named \"mydb\" \n",
      "    dbh = c[\"mydb\"]\n",
      "    # Demonstrate the db.connection property to retrieve a reference to the\n",
      "    # Connection object should it go out of scope. In most cases, keeping a\n",
      "    # reference to the Database object for the lifetime of your program should # be sufficient.\n",
      "    assert dbh.connection == c\n",
      "    user_doc = {\n",
      "        \"username\" : \"janedoe\",\n",
      "        \"firstname\" : \"Jane\",\n",
      "        \"surname\" : \"Doe\",\n",
      "        \"dateofbirth\" : datetime(1974, 4, 12), \n",
      "        \"email\" : \"janedoe74@example.com\", \n",
      "        \"score\" : 0\n",
      "    }\n",
      "    dbh.users.insert(user_doc, safe=True)\n",
      "    print \"Successfully inserted document: %s\" % user_doc\n",
      "if __name__ == \"__main__\": main()"
     ],
     "language": "python",
     "metadata": {},
     "outputs": [
      {
       "output_type": "stream",
       "stream": "stdout",
       "text": [
        "Connected successfully\n",
        "Successfully inserted document: {'username': 'janedoe', 'surname': 'Doe', 'firstname': 'Jane', 'dateofbirth': datetime.datetime(1974, 4, 12, 0, 0), 'score': 0, '_id': ObjectId('5355b940e820ac03c1f8dad3'), 'email': 'janedoe74@example.com'}"
       ]
      },
      {
       "output_type": "stream",
       "stream": "stdout",
       "text": [
        "\n"
       ]
      }
     ],
     "prompt_number": 13
    },
    {
     "cell_type": "code",
     "collapsed": false,
     "input": [
      "help(dbh.users.insert)"
     ],
     "language": "python",
     "metadata": {},
     "outputs": [
      {
       "ename": "NameError",
       "evalue": "name 'dbh' is not defined",
       "output_type": "pyerr",
       "traceback": [
        "\u001b[0;31m---------------------------------------------------------------------------\u001b[0m\n\u001b[0;31mNameError\u001b[0m                                 Traceback (most recent call last)",
        "\u001b[0;32m<ipython-input-15-f86841cc5da1>\u001b[0m in \u001b[0;36m<module>\u001b[0;34m()\u001b[0m\n\u001b[0;32m----> 1\u001b[0;31m \u001b[0mhelp\u001b[0m\u001b[0;34m(\u001b[0m\u001b[0mdbh\u001b[0m\u001b[0;34m.\u001b[0m\u001b[0musers\u001b[0m\u001b[0;34m.\u001b[0m\u001b[0minsert\u001b[0m\u001b[0;34m)\u001b[0m\u001b[0;34m\u001b[0m\u001b[0m\n\u001b[0m",
        "\u001b[0;31mNameError\u001b[0m: name 'dbh' is not defined"
       ]
      }
     ],
     "prompt_number": 15
    },
    {
     "cell_type": "code",
     "collapsed": false,
     "input": [],
     "language": "python",
     "metadata": {},
     "outputs": []
    }
   ],
   "metadata": {}
  }
 ]
}